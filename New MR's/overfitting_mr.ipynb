{
 "cells": [
  {
   "cell_type": "markdown",
   "metadata": {},
   "source": [
    "# This MR is focused on measuring the degree of overfitting and then providing necessary measures to remove it and provide the accuracy that can be acheived."
   ]
  },
  {
   "cell_type": "markdown",
   "metadata": {},
   "source": [
    "## We will use K-fold Cross Validation Approach to remove the overfitting in the model."
   ]
  },
  {
   "cell_type": "code",
   "execution_count": 1,
   "metadata": {},
   "outputs": [
    {
     "name": "stdout",
     "output_type": "stream",
     "text": [
      "(39209, 30, 30, 3)\n",
      "Train on 31368 samples, validate on 7841 samples\n",
      "31368/31368 [==============================] - 102s 3ms/sample - loss: 1.4532 - accuracy: 0.5889 - val_loss: 0.1813 - val_accuracy: 0.9542\n"
     ]
    }
   ],
   "source": [
    "#Importing model, training data set and validation data set from the CNN_classifier provided\n",
    "from cnn_classifier import model, X_train, y_train, X_val, y_val"
   ]
  },
  {
   "cell_type": "code",
   "execution_count": 2,
   "metadata": {},
   "outputs": [],
   "source": [
    "import numpy as np\n",
    "import tensorflow as tf\n",
    "import os\n",
    "import cv2\n",
    "from PIL import Image\n",
    "from io import BytesIO"
   ]
  },
  {
   "cell_type": "code",
   "execution_count": 16,
   "metadata": {},
   "outputs": [
    {
     "name": "stdout",
     "output_type": "stream",
     "text": [
      "Train on 20912 samples\n",
      "Epoch 1/2\n",
      "20912/20912 [==============================] - 61s 3ms/sample - loss: 0.2648 - accuracy: 0.9200\n",
      "Epoch 2/2\n",
      "20912/20912 [==============================] - 62s 3ms/sample - loss: 0.1692 - accuracy: 0.9483\n",
      "10456/10456 [==============================] - 6s 594us/sample - loss: 0.0459 - accuracy: 0.9881\n",
      "Model evaluation  [0.045854941964777955, 0.98814076]\n",
      "Train on 20912 samples\n",
      "Epoch 1/2\n",
      "20912/20912 [==============================] - 62s 3ms/sample - loss: 0.1378 - accuracy: 0.9582s - loss: 0.1378 - accuracy: 0.\n",
      "Epoch 2/2\n",
      "20912/20912 [==============================] - 62s 3ms/sample - loss: 0.1024 - accuracy: 0.9692\n",
      "10456/10456 [==============================] - 6s 596us/sample - loss: 0.0324 - accuracy: 0.9908\n",
      "Model evaluation  [0.03244560353283171, 0.9908187]\n",
      "Train on 20912 samples\n",
      "Epoch 1/2\n",
      "20912/20912 [==============================] - 62s 3ms/sample - loss: 0.0930 - accuracy: 0.9737\n",
      "Epoch 2/2\n",
      "20912/20912 [==============================] - 62s 3ms/sample - loss: 0.0868 - accuracy: 0.9745\n",
      "10456/10456 [==============================] - 6s 592us/sample - loss: 0.0217 - accuracy: 0.9934 - loss: 0.0214 - ac\n",
      "Model evaluation  [0.02166279836713412, 0.99340093]\n"
     ]
    }
   ],
   "source": [
    "from sklearn.model_selection import KFold\n",
    " \n",
    "n_split=3\n",
    " \n",
    "for train_index,test_index in KFold(n_split).split(X_train):\n",
    "    x_train,x_test=X_train[train_index],X_train[test_index]\n",
    "    y1_train,y_test=y_train[train_index],y_train[test_index]\n",
    "\n",
    "    model.fit(x_train, y1_train,epochs=2)\n",
    "\n",
    "    print('Model evaluation ',model.evaluate(x_test,y_test))"
   ]
  },
  {
   "cell_type": "code",
   "execution_count": null,
   "metadata": {},
   "outputs": [],
   "source": []
  }
 ],
 "metadata": {
  "kernelspec": {
   "display_name": "Python 3",
   "language": "python",
   "name": "python3"
  },
  "language_info": {
   "codemirror_mode": {
    "name": "ipython",
    "version": 3
   },
   "file_extension": ".py",
   "mimetype": "text/x-python",
   "name": "python",
   "nbconvert_exporter": "python",
   "pygments_lexer": "ipython3",
   "version": "3.7.6"
  }
 },
 "nbformat": 4,
 "nbformat_minor": 4
}
